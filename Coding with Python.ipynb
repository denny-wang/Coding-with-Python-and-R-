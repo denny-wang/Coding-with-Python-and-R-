{
 "cells": [
  {
   "cell_type": "markdown",
   "metadata": {},
   "source": [
    "# Part 1: Getting Started"
   ]
  },
  {
   "cell_type": "markdown",
   "metadata": {},
   "source": [
    "### Task 1\n",
    "\n",
    "Example Jupyter Notebook - [link](https://nbviewer.jupyter.org/github/cossatot/lanf_earthquake_likelihood/blob/master/notebooks/lanf_manuscript_notebook.ipynb)\n",
    "\n",
    "The topic of this notebook is estimating likelihood of observing a large earthquake on a continental low‐angle normal fault and implications for low‐angle normal fault activity. I found this example particularly interesting because I was always fascinated with the mechanics of natural disasters. Since I live in Seattle, earthquakes is one of the major natural disaster threats. Therefore, being able to estimate and predict an earthquake is very useful in preparing for a potential future earthquake event. "
   ]
  },
  {
   "cell_type": "markdown",
   "metadata": {},
   "source": [
    "### Task 2 \n",
    "\n",
    "A) What appear to be some of the most popular or widely-used python packages? Link to them and/or to the sources you used to answer this question. Describe what a few of them do.\n",
    "* NumPy ([link](http://www.numpy.org/))\n",
    "    * The fundamental package for scientific computing in Python \n",
    "    * Useful for linear algebra, Fourier transform, and random number capabilities\n",
    "    * Used as an efficient multi-dimensional container of generic data\n",
    "* Pandas ([link](https://pandas.pydata.org/))\n",
    "    * High performance merging and joining of datasets\n",
    "    * Aggregating or transforming data with a powerful group by engine allowing split-apply-combine operations on data sets\n",
    "\n",
    "B) You’ll often want to do the same things in python that you do in R, but the packages are not the same. So you’ll use similar, but not identical, libraries. Find and link a library that serves the same or a similar purpose as ggplot does for R.\n",
    "\n",
    "* Plotnine is an implementation of a grammar of graphics in Python based on ggplot2. ([link](https://plotnine.readthedocs.io/en/stable/))\n",
    "\n",
    "C) You’ll also want to work with data in a format similar to what we’ve become used to: things like dataframes. Go find a python library for data analysis that uses something like dataframes. Link it here!\n",
    "\n",
    "* The DataFrame object in the pandas library is very similar to dataframes in R. ([link](http://pandas.pydata.org/pandas-docs/stable/getting_started/dsintro.html))"
   ]
  },
  {
   "cell_type": "markdown",
   "metadata": {},
   "source": [
    "### Task 3 \n",
    "\n",
    "One of the general differences between R and Python is that is mainly geared towards data analysis and statistical analysis while Python is more of a generalist with data analysis capabilities. Another distinct difference is the syntax.\n",
    "\n",
    "*Example of importing a CSV:*\n",
    "\n",
    "In R:\n",
    "\n",
    "    table <- read.csv(\"file.csv\")\n",
    "    \n",
    "In Python: \n",
    "\n",
    "    import pandas\n",
    "    table = pandas.read_csv(\"file.csv\")\n",
    "    \n",
    "Other than syntax differences, in Python you need to import the pandas library to access the dataframe while in R, that function is built in. Additionally, Python is more object-oriented and R is more functional. \n",
    "    "
   ]
  },
  {
   "cell_type": "markdown",
   "metadata": {},
   "source": [
    "# Part 2: Strings and Basic Syntax"
   ]
  },
  {
   "cell_type": "markdown",
   "metadata": {},
   "source": [
    "### Task 4"
   ]
  },
  {
   "cell_type": "code",
   "execution_count": 27,
   "metadata": {},
   "outputs": [
    {
     "name": "stdout",
     "output_type": "stream",
     "text": [
      "Hello World!\n"
     ]
    }
   ],
   "source": [
    "x = \"Hello\"\n",
    "y = \"World\"\n",
    "z = \"!\"\n",
    "print(x + \" \" + y + z)"
   ]
  },
  {
   "cell_type": "markdown",
   "metadata": {},
   "source": [
    "### Task 5"
   ]
  },
  {
   "cell_type": "code",
   "execution_count": 28,
   "metadata": {},
   "outputs": [
    {
     "name": "stdout",
     "output_type": "stream",
     "text": [
      "Hello World! 2019\n",
      "HELLO WORLD! 2019\n"
     ]
    }
   ],
   "source": [
    "a = 2019\n",
    "print(x + \" \" + y + z + \" \" + str(a))\n",
    "print(x.upper() + \" \" + y.upper() + z + \" \" + str(a))"
   ]
  },
  {
   "cell_type": "markdown",
   "metadata": {},
   "source": [
    "### Task 6"
   ]
  },
  {
   "cell_type": "code",
   "execution_count": 29,
   "metadata": {},
   "outputs": [
    {
     "name": "stdout",
     "output_type": "stream",
     "text": [
      "Hello World! 2019\n",
      "3\n",
      "11\n"
     ]
    }
   ],
   "source": [
    "list = [x, y, z, a]\n",
    "sentence = list[0] + \" \" + list[1] + list[2] + \" \" + str(list[-1])\n",
    "print(sentence)\n",
    "print(list[0].count('l') + list[1].count('l') + list[2].count('l') + str(list[-1]).count('l'))\n",
    "print(sentence.find(\"!\"))\n"
   ]
  },
  {
   "cell_type": "markdown",
   "metadata": {},
   "source": [
    "### Task 7"
   ]
  },
  {
   "cell_type": "code",
   "execution_count": 30,
   "metadata": {},
   "outputs": [
    {
     "name": "stdout",
     "output_type": "stream",
     "text": [
      "Hello Wo\n"
     ]
    }
   ],
   "source": [
    "firsthalf = (len(sentence) - 1) / 2\n",
    "print(sentence[:firsthalf])"
   ]
  },
  {
   "cell_type": "markdown",
   "metadata": {},
   "source": [
    "### Task 8 "
   ]
  },
  {
   "cell_type": "code",
   "execution_count": 31,
   "metadata": {},
   "outputs": [
    {
     "name": "stdout",
     "output_type": "stream",
     "text": [
      "Hello World! \n",
      "Hello Bob! \n"
     ]
    }
   ],
   "source": [
    "sentence = sentence.strip('2019')\n",
    "print(sentence)\n",
    "sentence = sentence.replace('World', 'Bob')\n",
    "print(sentence)"
   ]
  },
  {
   "cell_type": "markdown",
   "metadata": {},
   "source": [
    "### Task 9"
   ]
  },
  {
   "cell_type": "code",
   "execution_count": 32,
   "metadata": {},
   "outputs": [
    {
     "name": "stdout",
     "output_type": "stream",
     "text": [
      "['Hello', 'Bob!']\n"
     ]
    }
   ],
   "source": [
    "list2 = sentence.split()\n",
    "print(list2)"
   ]
  },
  {
   "cell_type": "code",
   "execution_count": 33,
   "metadata": {},
   "outputs": [
    {
     "name": "stdout",
     "output_type": "stream",
     "text": [
      "['Hello', 'There', 'Bob!']\n"
     ]
    }
   ],
   "source": [
    "list2.insert(1, \"There\")\n",
    "print(list2)"
   ]
  },
  {
   "cell_type": "markdown",
   "metadata": {},
   "source": [
    "# Part 3: Conditionals"
   ]
  },
  {
   "cell_type": "markdown",
   "metadata": {},
   "source": [
    "### Task 10"
   ]
  },
  {
   "cell_type": "code",
   "execution_count": 34,
   "metadata": {},
   "outputs": [
    {
     "name": "stdout",
     "output_type": "stream",
     "text": [
      "4th Quartile\n"
     ]
    }
   ],
   "source": [
    "import random\n",
    "number = random.randint(1, 100)\n",
    "if number <= 25:\n",
    "    print(\"1st Quartile\")\n",
    "elif number > 25 and number <= 50:\n",
    "    print(\"2nd Quartile\")\n",
    "elif number > 50 and number <= 75:\n",
    "    print(\"3rd Quartile\")\n",
    "else:\n",
    "    print(\"4th Quartile\")"
   ]
  },
  {
   "cell_type": "markdown",
   "metadata": {},
   "source": [
    "# Part 4: Loops"
   ]
  },
  {
   "cell_type": "markdown",
   "metadata": {},
   "source": [
    "### Task 11"
   ]
  },
  {
   "cell_type": "code",
   "execution_count": 35,
   "metadata": {},
   "outputs": [
    {
     "name": "stdout",
     "output_type": "stream",
     "text": [
      "Warning, residents of Seattle, temperatures will reach sub-zero temperatures today, please stay indoors if possible\n",
      "Warning, residents of Bellevue, temperatures will reach sub-zero temperatures today, please stay indoors if possible\n",
      "Warning, residents of Redmond, temperatures will reach sub-zero temperatures today, please stay indoors if possible\n",
      "Warning, residents of Sammamish, temperatures will reach sub-zero temperatures today, please stay indoors if possible\n",
      "Warning, residents of Renton, temperatures will reach sub-zero temperatures today, please stay indoors if possible\n",
      "Warning, residents of Everett, temperatures will reach sub-zero temperatures today, please stay indoors if possible\n"
     ]
    }
   ],
   "source": [
    "cities = [\"Seattle\", \"Bellevue\", \"Redmond\", \"Sammamish\", \"Renton\", \"Everett\"]\n",
    "for city in cities:\n",
    "    print(\"Warning, residents of \" + city + \", temperatures will reach sub-zero temperatures today, please stay indoors if possible\")"
   ]
  },
  {
   "cell_type": "markdown",
   "metadata": {},
   "source": [
    "### Task 12"
   ]
  },
  {
   "cell_type": "code",
   "execution_count": 36,
   "metadata": {},
   "outputs": [
    {
     "name": "stdout",
     "output_type": "stream",
     "text": [
      "/Users/dennywang/School/GEOG_458/Washington.shp\n",
      "/Users/dennywang/School/GEOG_458/California.shp\n",
      "/Users/dennywang/School/GEOG_458/Nevada.shp\n",
      "/Users/dennywang/School/GEOG_458/Idaho.shp\n",
      "/Users/dennywang/School/GEOG_458/Montana.shp\n",
      "/Users/dennywang/School/GEOG_458/Utah.shp\n",
      "/Users/dennywang/School/GEOG_458/Colorado.shp\n",
      "/Users/dennywang/School/GEOG_458/New Mexico.shp\n",
      "['/Users/dennywang/School/GEOG_458/Washington.shp', '/Users/dennywang/School/GEOG_458/California.shp', '/Users/dennywang/School/GEOG_458/Nevada.shp', '/Users/dennywang/School/GEOG_458/Idaho.shp', '/Users/dennywang/School/GEOG_458/Montana.shp', '/Users/dennywang/School/GEOG_458/Utah.shp', '/Users/dennywang/School/GEOG_458/Colorado.shp', '/Users/dennywang/School/GEOG_458/New Mexico.shp']\n"
     ]
    }
   ],
   "source": [
    "shapefiles = []\n",
    "states = [\"Washington\", \"California\", \"Nevada\", \"Idaho\", \"Montana\", \"Utah\", \"Colorado\", \"New Mexico\"]\n",
    "for state in states:\n",
    "    path = \"/Users/dennywang/School/GEOG_458/\" + state + \".shp\"\n",
    "    shapefiles.append(path)\n",
    "    print(path) \n",
    "print(shapefiles)"
   ]
  },
  {
   "cell_type": "markdown",
   "metadata": {},
   "source": [
    "### Task 13"
   ]
  },
  {
   "cell_type": "code",
   "execution_count": 37,
   "metadata": {},
   "outputs": [
    {
     "name": "stdout",
     "output_type": "stream",
     "text": [
      "T-minus 10\n",
      "T-minus 9\n",
      "T-minus 8\n",
      "T-minus 7\n",
      "T-minus 6\n",
      "T-minus 5\n",
      "T-minus 4\n",
      "T-minus 3\n",
      "T-minus 2\n",
      "T-minus 1\n",
      "T-minus 0\n"
     ]
    }
   ],
   "source": [
    "count = 10\n",
    "while count >= 0:\n",
    "    print(\"T-minus \" + str(count))\n",
    "    count = count - 1"
   ]
  },
  {
   "cell_type": "markdown",
   "metadata": {},
   "source": [
    "### Task 14"
   ]
  },
  {
   "cell_type": "code",
   "execution_count": 38,
   "metadata": {},
   "outputs": [
    {
     "name": "stdout",
     "output_type": "stream",
     "text": [
      "T-minus 10\n",
      "T-minus 9\n",
      "T-minus 8\n",
      "T-minus 7\n",
      "T-minus 6\n",
      "T-minus 5\n",
      "T-minus 4\n",
      "T-minus 3\n",
      "T-minus 2\n",
      "T-minus 1\n",
      "T-minus 0\n"
     ]
    }
   ],
   "source": [
    "def countdown(count):\n",
    "    while count >= 0:\n",
    "        print(\"T-minus \" + str(count))\n",
    "        count = count - 1\n",
    "countdown(10)"
   ]
  },
  {
   "cell_type": "markdown",
   "metadata": {},
   "source": [
    "### Task 15"
   ]
  },
  {
   "cell_type": "code",
   "execution_count": 39,
   "metadata": {},
   "outputs": [
    {
     "name": "stdout",
     "output_type": "stream",
     "text": [
      "1st Quartile\n",
      "1st Quartile\n",
      "Error\n",
      "4th Quartile\n",
      "Error\n",
      "1st Quartile\n",
      "2nd Quartile\n",
      "3rd Quartile\n"
     ]
    }
   ],
   "source": [
    "def quartile_calc(number):\n",
    "    if number > 100 or number < 0:\n",
    "        print(\"Error\")\n",
    "    elif number <= 25:\n",
    "        print(\"1st Quartile\")\n",
    "    elif number > 25 and number <= 50:\n",
    "        print(\"2nd Quartile\")\n",
    "    elif number > 50 and number <= 75:\n",
    "        print(\"3rd Quartile\")\n",
    "    else:\n",
    "        print(\"4th Quartile\")\n",
    "quartile_calc(0)\n",
    "quartile_calc(1)\n",
    "quartile_calc(-1)\n",
    "quartile_calc(100)\n",
    "quartile_calc(101)\n",
    "quartile_calc(25)\n",
    "quartile_calc(50)\n",
    "quartile_calc(75)"
   ]
  }
 ],
 "metadata": {
  "kernelspec": {
   "display_name": "Python 2",
   "language": "python",
   "name": "python2"
  },
  "language_info": {
   "codemirror_mode": {
    "name": "ipython",
    "version": 2
   },
   "file_extension": ".py",
   "mimetype": "text/x-python",
   "name": "python",
   "nbconvert_exporter": "python",
   "pygments_lexer": "ipython2",
   "version": "2.7.15"
  }
 },
 "nbformat": 4,
 "nbformat_minor": 2
}
